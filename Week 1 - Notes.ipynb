{
 "cells": [
  {
   "cell_type": "markdown",
   "metadata": {},
   "source": [
    "# Taxonomy of Driving\n",
    "## Driving Task\n",
    "1. Perceiving the Environment\n",
    "    - Road Surface\n",
    "    - Road Signs\n",
    "    - Other vehicles of any type\n",
    "    - Pedestrians\n",
    "    - Moving(dynamic) objects\n",
    "2. Planning\n",
    "    - Planning the roads you're gonna take from point A to B\n",
    "\n",
    "3. Controlling the Vehicle\n",
    "    - Control the vehicle's position and velocity on the road\n",
    "    - Steering\n",
    "    - Acceleration\n",
    "    - Breaking"
   ]
  },
  {
   "cell_type": "markdown",
   "metadata": {},
   "source": [
    "## Operational Design Domain(ODD)\n",
    "- Specific operating domains that the vehicle can perform reliable. Could be;\n",
    "    - Environmental\n",
    "    - Time of the day\n",
    "    - Roadway \n",
    "- These domains need to be planned in advance, because they are crucial for safety"
   ]
  },
  {
   "cell_type": "markdown",
   "metadata": {},
   "source": [
    "## Classification of Automation (Level of Automation)\n",
    "1. Driver Attention Requirements\n",
    "    - Can you watch a move while driving?\n",
    "    - Do you need to keep an eye on the steering wheel at all times?\n",
    "2. Driver Action Requirements\n",
    "    - Do you need to control the steering wheel?\n",
    "    - Does the handles the velocity?\n",
    "    \n",
    "### Classification Helpers\n",
    "1. Lateral Control\n",
    "    - Steering and navigation laterally on the road\n",
    "    - Turning left, right, tracking a curve etc..\n",
    "2. Longitudinal Control\n",
    "    - Position or velocity is controlled\n",
    "3. Object Event Detection and Response (OEDR)\n",
    "    - Ability to detect objects and react.\n",
    "4. Planning\n",
    "    - Long term planning: Travel to a destination\n",
    "    - Short term planning: Maneuvers such as lane changes or crossings\n",
    "5. Miscellaneous \n",
    "    - Interfiring with other drivers\n",
    "    - Hand waving (Police officers)"
   ]
  },
  {
   "cell_type": "markdown",
   "metadata": {},
   "source": [
    "## Autonomous Capabilities\n",
    "1. Can the vehicle perform lateral control?\n",
    "2. Can the vehicle perform longitudinal control?\n",
    "3. Can the vehicle perform OEDR. If so, at what degree?\n",
    "    - Such as automatic emergency response\n",
    "    - Driver supervision etc...\n",
    "4. Does the vehicle have Complete or Restrickted ODD?\n",
    "    - Set of operating conditions the vehicle can handle"
   ]
  },
  {
   "cell_type": "markdown",
   "metadata": {},
   "source": [
    "## Automation Levels\n",
    "1. Level 0\n",
    "    - Regular vehicles with no automation\n",
    "2. Level 1 | Driving Assistance\n",
    "    - Either has longitudinal or lateral control. Not both. \n",
    "    - Examples would be:\n",
    "        - Adaptive cruise control\n",
    "            - Controls speed, but driver has to steer\n",
    "        - Lane keeping assistance\n",
    "            - Helps stay in lane if you drift\n",
    "3. Level 2 | Partial Driving (Mostly what we have today such as Tesla)\n",
    "    - Both lateral and longitudinal control in specific driving conditions\n",
    "    - Examples would be:\n",
    "        - GM Super Cruise\n",
    "        - Nissan Propilot\n",
    "    - Driver montioring of the system is always required\n",
    "    \n",
    "4. Level 3 | Conditional Driving Automation\n",
    "    - Includes automated OEDR\n",
    "    - In case of a failure the control must be taken by the driver\n",
    "    - The difference with Level 2 is, driver doesn't need to pay attention in certain specific situations\n",
    "    - Examples would be;\n",
    "        - Audi A8 Sedan\n",
    "        - It cannot handle emergencies by itself and requires full user attention\n",
    "5. Level 4 | High Driving Automation\n",
    "    - Handles emergencies autonomously\n",
    "    - Driver can entirely focus on other tasks\n",
    "    - May ask driver to take over on system failure\n",
    "    - You can check your phone, watch a movie etc...\n",
    "    - Examples would be;\n",
    "        - Waymo\n",
    "        - ODD is limited!\n",
    "6. Level 5 | Fully Autonomous \n",
    "    - ODD is unlimited, the vehicle can operate in any conditions\n",
    "    - Driverles taxis could be one type of its implementation\n",
    "    - We don't have an example for that level yet. :)"
   ]
  },
  {
   "cell_type": "markdown",
   "metadata": {},
   "source": [
    "## Requirements for Perception\n",
    "* Sensors ==> Input ==> Analyze EGO Motion and Environment ==> Decide on a Plan or a Maneuver ==> Drive\n",
    "    - Anlyze EGO Motion and Environment = Perception\n",
    "    - Decide on a Plan or a Maneuver = OEDR\n",
    "* Perception is part of OED(Response is not included)\n",
    "* We want to make sense of the environement and us(EGO Vehicle)\n",
    "    - Identification of objects around us such as Cars or Bicycles\n",
    "    - Understand their motion\n"
   ]
  },
  {
   "cell_type": "markdown",
   "metadata": {},
   "source": [
    "## Goals for Perception\n",
    "1. Static Objects (Detection)\n",
    "    - Road we're driving, Lane markings(on-road) etc.\n",
    "    - Curbs (off-road)\n",
    "    - Traffic lights (off-road)\n",
    "    - Road signs (off-road)\n",
    "    - Construction signs, obstructions and more (on-road)\n",
    "2. Dynamic Objects (On-road)\n",
    "    - Other vehicles\n",
    "        - 4 wheelers (cars, trucks, busses etc)\n",
    "        - 2 wheelers (motorcycles, bicycles). They are harder to predict.\n",
    "3. Ego Localization\n",
    "    - Position (Where we are in the environment)\n",
    "    - Velocity, acceleration ( How we are moving)\n",
    "    - Orientation, angular motion\n",
    "    - Data comes from sensors such as GPS, IMU, and Odometry"
   ]
  },
  {
   "cell_type": "markdown",
   "metadata": {},
   "source": [
    "## Challenges\n",
    "- Robust detection and segmentation\n",
    "- So many researches are going on. Hard to get to the human level.\n",
    "- Access to large dataset is crucial. This is hard and time consuming\n",
    "- Sensor uncertinity:\n",
    "    - Every subsystems that rely on sensor data should take uncertinity into account\n",
    "    - GPS date might be corrupted, visibility data and radar might be noisy\n",
    "- Occulusion and Reflection\n",
    "    - Can be caused by camera or LIDAR\n",
    "- Lens flare, illumination, GPS outage in tunnels\n",
    "- Weather\n",
    "    - Can affect the quality of sensor data\n",
    "    - Crucial to have some sensors immune to different weather conditions such as Radar"
   ]
  },
  {
   "cell_type": "markdown",
   "metadata": {},
   "source": [
    "## Driving Decisions and Actions (Decision Making)\n",
    "- PLANNING\n",
    "    - Long term planning\n",
    "        - Such as how to navigate from NY TO LA or how to navigate from work to home\n",
    "    - Short term planning\n",
    "        - Such as, is it safe to change a lane?\n",
    "        - Can I pass this intersection and join the left road\n",
    "    - Immidiate planning (reaction)\n",
    "        - Can I stay on track on this curved road?\n",
    "        - Accelerate or break by how much?\n",
    "- Rule Based Planning\n",
    "    - Reactive rule based planning\n",
    "        - We have rules that take into account the current state of ego and other objects around. We make decisions accordingly\n",
    "        - Examples would be;\n",
    "            - If there is a pedestrian, stop\n",
    "            - If the speed limit changes, adjust to match it\n",
    "- Predictive Planning\n",
    "    - Make predictions about other vehicles and how they are moving. Then use these predictions to inform decisions.\n",
    "    - Examples would be;\n",
    "        - This car has stopped for 10 seconds. It is going to be stopped for the next few seconds."
   ]
  },
  {
   "cell_type": "markdown",
   "metadata": {},
   "source": [
    "# Recap of Week 1\n",
    "1. Levels of Automation\n",
    "2. The driving task, and the major components of driving such as "
   ]
  }
 ],
 "metadata": {
  "kernelspec": {
   "display_name": "Python 3",
   "language": "python",
   "name": "python3"
  },
  "language_info": {
   "codemirror_mode": {
    "name": "ipython",
    "version": 3
   },
   "file_extension": ".py",
   "mimetype": "text/x-python",
   "name": "python",
   "nbconvert_exporter": "python",
   "pygments_lexer": "ipython3",
   "version": "3.7.3"
  }
 },
 "nbformat": 4,
 "nbformat_minor": 2
}
